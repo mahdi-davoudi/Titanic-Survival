{
 "cells": [
  {
<<<<<<< HEAD
   "cell_type": "markdown",
   "metadata": {},
   "source": [
    "[![Open In Colab](https://colab.research.google.com/assets/colab-badge.svg)](https://colab.research.google.com/github/mahdidi/Titanic-Survival.git/blob/main/titan.ipynb)\n",
    "[![Open In Kaggle](https://kaggle.com/static/images/open-in-kaggle.svg)](https://kaggle.com/kernels/welcome?src=https://github.com/mahdidi/Titanic-Survival.git/blob/main/titan.ipynb)"
   ]
  },
  {
   "cell_type": "markdown",
   "metadata": {},
   "source": [
    "# proj"
   ]
  },
  {
   "cell_type": "code",
   "execution_count": 1,
=======
   "cell_type": "code",
   "execution_count": null,
>>>>>>> ac01f4e68f8c3ad973fd6c55d2c0608351ed943e
   "metadata": {},
   "outputs": [],
   "source": [
    "import pandas as pd\n",
    "import numpy as np\n",
    "import matplotlib.pyplot as plt\n",
    "pd.plotting.register_matplotlib_converters()\n",
    "import seaborn as sns\n",
    "from sklearn.model_selection import train_test_split\n",
<<<<<<< HEAD
    "from sklearn.feature_selection import mutual_info_regression\n",
    "from sklearn.ensemble import RandomForestClassifier\n",
    "from sklearn.tree import DecisionTreeClassifier\n",
    "from sklearn.ensemble import VotingClassifier\n",
    "from sklearn.metrics import accuracy_score, classification_report\n",
=======
    "from sklearn.ensemble import RandomForestClassifier\n",
    "from sklearn.tree import DecisionTreeClassifier\n",
    "from sklearn.ensemble import VotingClassifier\n",
    "from sklearn.metrics import accuracy_score\n",
>>>>>>> ac01f4e68f8c3ad973fd6c55d2c0608351ed943e
    "from sklearn.preprocessing import LabelEncoder\n",
    "from xgboost import XGBClassifier\n",
    "from sklearn.ensemble import ExtraTreesClassifier\n",
    "from sklearn.svm import SVC\n",
    "from sklearn.linear_model import LogisticRegression\n",
    "from sklearn.neighbors import KNeighborsClassifier\n"
   ]
  },
  {
   "cell_type": "code",
<<<<<<< HEAD
   "execution_count": 2,
=======
   "execution_count": 8,
>>>>>>> ac01f4e68f8c3ad973fd6c55d2c0608351ed943e
   "metadata": {},
   "outputs": [],
   "source": [
    "plt.style.use(\"seaborn-v0_8-whitegrid\")\n",
    "plt.rc(\"figure\", autolayout=True)\n",
    "plt.rc(\n",
    "    \"axes\",\n",
    "    labelweight=\"bold\",\n",
    "    labelsize=\"large\",\n",
    "    titleweight=\"bold\",\n",
    "    titlesize=14,\n",
    "    titlepad=10,\n",
    ")"
   ]
  },
  {
   "cell_type": "code",
<<<<<<< HEAD
   "execution_count": 3,
=======
   "execution_count": null,
>>>>>>> ac01f4e68f8c3ad973fd6c55d2c0608351ed943e
   "metadata": {},
   "outputs": [
    {
     "name": "stderr",
     "output_type": "stream",
     "text": [
<<<<<<< HEAD
      "C:\\Users\\DELL\\AppData\\Local\\Temp\\ipykernel_13188\\836519386.py:8: FutureWarning: A value is trying to be set on a copy of a DataFrame or Series through chained assignment using an inplace method.\n",
=======
      "C:\\Users\\DELL\\AppData\\Local\\Temp\\ipykernel_2936\\3817139636.py:11: FutureWarning: A value is trying to be set on a copy of a DataFrame or Series through chained assignment using an inplace method.\n",
>>>>>>> ac01f4e68f8c3ad973fd6c55d2c0608351ed943e
      "The behavior will change in pandas 3.0. This inplace method will never work because the intermediate object on which we are setting values always behaves as a copy.\n",
      "\n",
      "For example, when doing 'df[col].method(value, inplace=True)', try using 'df.method({col: value}, inplace=True)' or df[col] = df[col].method(value) instead, to perform the operation inplace on the original object.\n",
      "\n",
      "\n",
      "  df[\"Age\"].fillna(df[\"Age\"].median(), inplace=True)\n",
<<<<<<< HEAD
      "C:\\Users\\DELL\\AppData\\Local\\Temp\\ipykernel_13188\\836519386.py:9: FutureWarning: A value is trying to be set on a copy of a DataFrame or Series through chained assignment using an inplace method.\n",
=======
      "C:\\Users\\DELL\\AppData\\Local\\Temp\\ipykernel_2936\\3817139636.py:12: FutureWarning: A value is trying to be set on a copy of a DataFrame or Series through chained assignment using an inplace method.\n",
>>>>>>> ac01f4e68f8c3ad973fd6c55d2c0608351ed943e
      "The behavior will change in pandas 3.0. This inplace method will never work because the intermediate object on which we are setting values always behaves as a copy.\n",
      "\n",
      "For example, when doing 'df[col].method(value, inplace=True)', try using 'df.method({col: value}, inplace=True)' or df[col] = df[col].method(value) instead, to perform the operation inplace on the original object.\n",
      "\n",
      "\n",
      "  df[\"Embarked\"].fillna(df[\"Embarked\"].mode()[0], inplace=True)\n",
<<<<<<< HEAD
      "C:\\Users\\DELL\\AppData\\Local\\Temp\\ipykernel_13188\\836519386.py:8: FutureWarning: A value is trying to be set on a copy of a DataFrame or Series through chained assignment using an inplace method.\n",
=======
      "C:\\Users\\DELL\\AppData\\Local\\Temp\\ipykernel_2936\\3817139636.py:11: FutureWarning: A value is trying to be set on a copy of a DataFrame or Series through chained assignment using an inplace method.\n",
>>>>>>> ac01f4e68f8c3ad973fd6c55d2c0608351ed943e
      "The behavior will change in pandas 3.0. This inplace method will never work because the intermediate object on which we are setting values always behaves as a copy.\n",
      "\n",
      "For example, when doing 'df[col].method(value, inplace=True)', try using 'df.method({col: value}, inplace=True)' or df[col] = df[col].method(value) instead, to perform the operation inplace on the original object.\n",
      "\n",
      "\n",
      "  df[\"Age\"].fillna(df[\"Age\"].median(), inplace=True)\n",
<<<<<<< HEAD
      "C:\\Users\\DELL\\AppData\\Local\\Temp\\ipykernel_13188\\836519386.py:9: FutureWarning: A value is trying to be set on a copy of a DataFrame or Series through chained assignment using an inplace method.\n",
=======
      "C:\\Users\\DELL\\AppData\\Local\\Temp\\ipykernel_2936\\3817139636.py:12: FutureWarning: A value is trying to be set on a copy of a DataFrame or Series through chained assignment using an inplace method.\n",
>>>>>>> ac01f4e68f8c3ad973fd6c55d2c0608351ed943e
      "The behavior will change in pandas 3.0. This inplace method will never work because the intermediate object on which we are setting values always behaves as a copy.\n",
      "\n",
      "For example, when doing 'df[col].method(value, inplace=True)', try using 'df.method({col: value}, inplace=True)' or df[col] = df[col].method(value) instead, to perform the operation inplace on the original object.\n",
      "\n",
      "\n",
<<<<<<< HEAD
      "  df[\"Embarked\"].fillna(df[\"Embarked\"].mode()[0], inplace=True)\n"
=======
      "  df[\"Embarked\"].fillna(df[\"Embarked\"].mode()[0], inplace=True)\n",
      "c:\\Users\\DELL\\AppData\\Local\\Programs\\Python\\Python311\\Lib\\site-packages\\xgboost\\core.py:158: UserWarning: [19:45:45] WARNING: C:\\buildkite-agent\\builds\\buildkite-windows-cpu-autoscaling-group-i-06abd128ca6c1688d-1\\xgboost\\xgboost-ci-windows\\src\\learner.cc:740: \n",
      "Parameters: { \"use_label_encoder\" } are not used.\n",
      "\n",
      "  warnings.warn(smsg, UserWarning)\n",
      "c:\\Users\\DELL\\AppData\\Local\\Programs\\Python\\Python311\\Lib\\site-packages\\xgboost\\core.py:158: UserWarning: [19:45:45] WARNING: C:\\buildkite-agent\\builds\\buildkite-windows-cpu-autoscaling-group-i-06abd128ca6c1688d-1\\xgboost\\xgboost-ci-windows\\src\\learner.cc:740: \n",
      "Parameters: { \"use_label_encoder\" } are not used.\n",
      "\n",
      "  warnings.warn(smsg, UserWarning)\n",
      "c:\\Users\\DELL\\AppData\\Local\\Programs\\Python\\Python311\\Lib\\site-packages\\xgboost\\core.py:158: UserWarning: [19:45:45] WARNING: C:\\buildkite-agent\\builds\\buildkite-windows-cpu-autoscaling-group-i-06abd128ca6c1688d-1\\xgboost\\xgboost-ci-windows\\src\\learner.cc:740: \n",
      "Parameters: { \"use_label_encoder\" } are not used.\n",
      "\n",
      "  warnings.warn(smsg, UserWarning)\n",
      "c:\\Users\\DELL\\AppData\\Local\\Programs\\Python\\Python311\\Lib\\site-packages\\xgboost\\core.py:158: UserWarning: [19:45:45] WARNING: C:\\buildkite-agent\\builds\\buildkite-windows-cpu-autoscaling-group-i-06abd128ca6c1688d-1\\xgboost\\xgboost-ci-windows\\src\\learner.cc:740: \n",
      "Parameters: { \"use_label_encoder\" } are not used.\n",
      "\n",
      "  warnings.warn(smsg, UserWarning)\n",
      "c:\\Users\\DELL\\AppData\\Local\\Programs\\Python\\Python311\\Lib\\site-packages\\xgboost\\core.py:158: UserWarning: [19:45:46] WARNING: C:\\buildkite-agent\\builds\\buildkite-windows-cpu-autoscaling-group-i-06abd128ca6c1688d-1\\xgboost\\xgboost-ci-windows\\src\\learner.cc:740: \n",
      "Parameters: { \"use_label_encoder\" } are not used.\n",
      "\n",
      "  warnings.warn(smsg, UserWarning)\n",
      "c:\\Users\\DELL\\AppData\\Local\\Programs\\Python\\Python311\\Lib\\site-packages\\xgboost\\core.py:158: UserWarning: [19:45:46] WARNING: C:\\buildkite-agent\\builds\\buildkite-windows-cpu-autoscaling-group-i-06abd128ca6c1688d-1\\xgboost\\xgboost-ci-windows\\src\\learner.cc:740: \n",
      "Parameters: { \"use_label_encoder\" } are not used.\n",
      "\n",
      "  warnings.warn(smsg, UserWarning)\n"
     ]
    },
    {
     "name": "stdout",
     "output_type": "stream",
     "text": [
      "Validation Accuracy: 0.7877094972067039\n"
>>>>>>> ac01f4e68f8c3ad973fd6c55d2c0608351ed943e
     ]
    }
   ],
   "source": [
<<<<<<< HEAD
=======
    "\n",
>>>>>>> ac01f4e68f8c3ad973fd6c55d2c0608351ed943e
    "train_df = pd.read_csv( \"train.csv\")\n",
    "test_df = pd.read_csv(\"test.csv\")\n",
    "\n",
    "train_df = train_df.drop(columns=[\"PassengerId\", \"Name\", \"Ticket\", \"Cabin\"])\n",
    "test_df = test_df.drop(columns=[\"PassengerId\", \"Name\", \"Ticket\", \"Cabin\"], errors='ignore')\n",
    "\n",
    "def preprocess_data(df):\n",
    "    df[\"Age\"].fillna(df[\"Age\"].median(), inplace=True)\n",
    "    df[\"Embarked\"].fillna(df[\"Embarked\"].mode()[0], inplace=True)\n",
    "    return df\n",
    "\n",
    "train_df = preprocess_data(train_df)\n",
    "test_df = preprocess_data(test_df)\n",
    "\n",
    "label_encoders = {}\n",
    "for col in [\"Sex\", \"Embarked\"]:\n",
    "    le = LabelEncoder()\n",
    "    train_df[col] = le.fit_transform(train_df[col])\n",
    "    if col in test_df.columns:\n",
    "        test_df[col] = le.transform(test_df[col])\n",
    "    label_encoders[col] = le\n",
    "\n",
    "\n",
    "X_train = train_df.drop(columns=[\"Survived\"])\n",
    "y_train = train_df[\"Survived\"]\n",
    "X_test = test_df  \n",
<<<<<<< HEAD
    "X_train_split, X_val, y_train_split, y_val = train_test_split(X_train, y_train, test_size=0.2, random_state=42)"
=======
    "X_train_split, X_val, y_train_split, y_val = train_test_split(X_train, y_train, test_size=0.2, random_state=42)\n",
    "\n",
    "\n",
    "# ایجاد نمونه‌های بوت‌استرپ\n",
    "n_samples = 5  # تعداد نمونه‌های بوت‌استرپ\n",
    "bootstrap_samples = []\n",
    "\n",
    "for i in range(n_samples):\n",
    "    sample = train_df.sample(n=len(train_df), replace=True, random_state=42 + i)\n",
    "    bootstrap_samples.append(sample)\n",
    "\n",
    "# تعریف مدل‌های weak learners\n",
    "weak_learners = []\n",
    "models = [XGBClassifier(n_estimators=100, use_label_encoder=False, eval_metric=\"logloss\"),\n",
    "          DecisionTreeClassifier(),\n",
    "          RandomForestClassifier(n_estimators=100),\n",
    "          XGBClassifier(n_estimators=100, use_label_encoder=False, eval_metric=\"logloss\"),\n",
    "          XGBClassifier(n_estimators=100, use_label_encoder=False, eval_metric=\"logloss\")]\n",
    "\n",
    "for i, sample in enumerate(bootstrap_samples):\n",
    "    X_sample = sample.drop(columns=[\"Survived\"])\n",
    "    y_sample = sample[\"Survived\"]\n",
    "    model = models[i]\n",
    "    model.fit(X_sample, y_sample)\n",
    "    weak_learners.append((f'model_{i+1}', model))\n",
    "\n",
    "# ایجاد strong learner با VotingClassifier\n",
    "strong_learner = VotingClassifier(estimators=weak_learners, voting='hard')\n",
    "strong_learner.fit(X_train_split, y_train_split)\n",
    "\n",
    "y_val_pred = strong_learner.predict(X_val)\n",
    "accuracy = accuracy_score(y_val, y_val_pred)\n",
    "print(\"Validation Accuracy:\", accuracy)\n",
    "\n"
>>>>>>> ac01f4e68f8c3ad973fd6c55d2c0608351ed943e
   ]
  },
  {
   "cell_type": "code",
<<<<<<< HEAD
   "execution_count": 4,
=======
   "execution_count": 26,
>>>>>>> ac01f4e68f8c3ad973fd6c55d2c0608351ed943e
   "metadata": {},
   "outputs": [
    {
     "data": {
<<<<<<< HEAD
      "text/html": [
       "<div>\n",
       "<style scoped>\n",
       "    .dataframe tbody tr th:only-of-type {\n",
       "        vertical-align: middle;\n",
       "    }\n",
       "\n",
       "    .dataframe tbody tr th {\n",
       "        vertical-align: top;\n",
       "    }\n",
       "\n",
       "    .dataframe thead th {\n",
       "        text-align: right;\n",
       "    }\n",
       "</style>\n",
       "<table border=\"1\" class=\"dataframe\">\n",
       "  <thead>\n",
       "    <tr style=\"text-align: right;\">\n",
       "      <th></th>\n",
       "      <th>Survived</th>\n",
       "      <th>Pclass</th>\n",
       "      <th>Sex</th>\n",
       "      <th>Age</th>\n",
       "      <th>SibSp</th>\n",
       "      <th>Parch</th>\n",
       "      <th>Fare</th>\n",
       "      <th>Embarked</th>\n",
       "    </tr>\n",
       "  </thead>\n",
       "  <tbody>\n",
       "    <tr>\n",
       "      <th>0</th>\n",
       "      <td>0</td>\n",
       "      <td>3</td>\n",
       "      <td>1</td>\n",
       "      <td>22.0</td>\n",
       "      <td>1</td>\n",
       "      <td>0</td>\n",
       "      <td>7.2500</td>\n",
       "      <td>2</td>\n",
       "    </tr>\n",
       "    <tr>\n",
       "      <th>1</th>\n",
       "      <td>1</td>\n",
       "      <td>1</td>\n",
       "      <td>0</td>\n",
       "      <td>38.0</td>\n",
       "      <td>1</td>\n",
       "      <td>0</td>\n",
       "      <td>71.2833</td>\n",
       "      <td>0</td>\n",
       "    </tr>\n",
       "    <tr>\n",
       "      <th>2</th>\n",
       "      <td>1</td>\n",
       "      <td>3</td>\n",
       "      <td>0</td>\n",
       "      <td>26.0</td>\n",
       "      <td>0</td>\n",
       "      <td>0</td>\n",
       "      <td>7.9250</td>\n",
       "      <td>2</td>\n",
       "    </tr>\n",
       "    <tr>\n",
       "      <th>3</th>\n",
       "      <td>1</td>\n",
       "      <td>1</td>\n",
       "      <td>0</td>\n",
       "      <td>35.0</td>\n",
       "      <td>1</td>\n",
       "      <td>0</td>\n",
       "      <td>53.1000</td>\n",
       "      <td>2</td>\n",
       "    </tr>\n",
       "    <tr>\n",
       "      <th>4</th>\n",
       "      <td>0</td>\n",
       "      <td>3</td>\n",
       "      <td>1</td>\n",
       "      <td>35.0</td>\n",
       "      <td>0</td>\n",
       "      <td>0</td>\n",
       "      <td>8.0500</td>\n",
       "      <td>2</td>\n",
       "    </tr>\n",
       "  </tbody>\n",
       "</table>\n",
       "</div>"
      ],
      "text/plain": [
       "   Survived  Pclass  Sex   Age  SibSp  Parch     Fare  Embarked\n",
       "0         0       3    1  22.0      1      0   7.2500         2\n",
       "1         1       1    0  38.0      1      0  71.2833         0\n",
       "2         1       3    0  26.0      0      0   7.9250         2\n",
       "3         1       1    0  35.0      1      0  53.1000         2\n",
       "4         0       3    1  35.0      0      0   8.0500         2"
      ]
     },
     "execution_count": 4,
     "metadata": {},
     "output_type": "execute_result"
    }
   ],
   "source": [
    "train_df.head()"
   ]
  },
  {
   "cell_type": "code",
   "execution_count": 5,
   "metadata": {},
   "outputs": [],
   "source": [
    "def make_mi_scores(X,y):\n",
    "    X=X.copy()\n",
    "    for col in X.select_dtypes(['object', 'category']):\n",
    "        X[col], _ = X[col].factorize()\n",
    "    discrete_features = [pd.api.types.is_integer_dtype(t) for t in X.dtypes]\n",
    "    mi_scores = mutual_info_regression(X, y, discrete_features=discrete_features, random_state=0)\n",
    "    mi_scores = pd.Series(mi_scores, name=\"MI Scores\", index=X.columns)\n",
    "    mi_scores = mi_scores.sort_values(ascending=False)\n",
    "    return mi_scores\n",
    "\n",
    "\n",
    "def plot_mi_scores(scores):\n",
    "    scores = scores.sort_values(ascending=True)\n",
    "    width = np.arange(len(scores))\n",
    "    ticks = list(scores.index)\n",
    "    plt.barh(width, scores)\n",
    "    plt.yticks(width, ticks)\n",
    "    plt.title(\"Mutual Information Scores\")\n",
    "        "
   ]
  },
  {
   "cell_type": "code",
   "execution_count": 6,
   "metadata": {},
   "outputs": [],
   "source": [
    "X=train_df.copy()\n",
    "y=X.pop('Survived')\n",
    "\n",
    "mi_scores = make_mi_scores(X, y)"
   ]
  },
  {
   "cell_type": "code",
   "execution_count": 7,
   "metadata": {},
   "outputs": [
    {
     "name": "stdout",
     "output_type": "stream",
     "text": [
      "Sex         0.158776\n",
      "Fare        0.145373\n",
      "Pclass      0.053259\n",
      "Embarked    0.038675\n",
      "Age         0.013381\n",
      "Parch       0.005797\n",
      "SibSp       0.000000\n",
      "Name: MI Scores, dtype: float64\n"
     ]
    },
    {
     "data": {
      "image/png": "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",
      "text/plain": [
       "<Figure size 800x500 with 1 Axes>"
=======
      "image/png": "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",
      "text/plain": [
       "<Figure size 640x480 with 1 Axes>"
>>>>>>> ac01f4e68f8c3ad973fd6c55d2c0608351ed943e
      ]
     },
     "metadata": {},
     "output_type": "display_data"
    }
   ],
   "source": [
<<<<<<< HEAD
    "print(mi_scores.head(20))\n",
    "\n",
    "\n",
    "plt.figure(dpi=100, figsize=(8, 5))\n",
    "plot_mi_scores(mi_scores.head(20))        "
   ]
  },
  {
   "cell_type": "markdown",
   "metadata": {},
   "source": [
    "# INformation Gain"
=======
    "model = RandomForestClassifier(n_estimators=100)\n",
    "model.fit(X_train, y_train)\n",
    "\n",
    "plt.barh(X_train.columns, model.feature_importances_)\n",
    "plt.xlabel(\"Feature Importance\")\n",
    "plt.ylabel(\"Features\")\n",
    "plt.show()\n"
>>>>>>> ac01f4e68f8c3ad973fd6c55d2c0608351ed943e
   ]
  },
  {
   "cell_type": "code",
<<<<<<< HEAD
   "execution_count": 13,
   "metadata": {},
   "outputs": [
    {
     "name": "stderr",
     "output_type": "stream",
     "text": [
      "C:\\Users\\DELL\\AppData\\Local\\Temp\\ipykernel_13188\\1274715488.py:19: FutureWarning: A value is trying to be set on a copy of a DataFrame or Series through chained assignment using an inplace method.\n",
      "The behavior will change in pandas 3.0. This inplace method will never work because the intermediate object on which we are setting values always behaves as a copy.\n",
      "\n",
      "For example, when doing 'df[col].method(value, inplace=True)', try using 'df.method({col: value}, inplace=True)' or df[col] = df[col].method(value) instead, to perform the operation inplace on the original object.\n",
      "\n",
      "\n",
      "  df[\"Age\"].fillna(df[\"Age\"].median(), inplace=True)\n",
      "C:\\Users\\DELL\\AppData\\Local\\Temp\\ipykernel_13188\\1274715488.py:20: FutureWarning: A value is trying to be set on a copy of a DataFrame or Series through chained assignment using an inplace method.\n",
      "The behavior will change in pandas 3.0. This inplace method will never work because the intermediate object on which we are setting values always behaves as a copy.\n",
      "\n",
      "For example, when doing 'df[col].method(value, inplace=True)', try using 'df.method({col: value}, inplace=True)' or df[col] = df[col].method(value) instead, to perform the operation inplace on the original object.\n",
      "\n",
      "\n",
      "  df[\"Embarked\"].fillna(df[\"Embarked\"].mode()[0], inplace=True)\n",
      "C:\\Users\\DELL\\AppData\\Local\\Temp\\ipykernel_13188\\1274715488.py:19: FutureWarning: A value is trying to be set on a copy of a DataFrame or Series through chained assignment using an inplace method.\n",
      "The behavior will change in pandas 3.0. This inplace method will never work because the intermediate object on which we are setting values always behaves as a copy.\n",
      "\n",
      "For example, when doing 'df[col].method(value, inplace=True)', try using 'df.method({col: value}, inplace=True)' or df[col] = df[col].method(value) instead, to perform the operation inplace on the original object.\n",
      "\n",
      "\n",
      "  df[\"Age\"].fillna(df[\"Age\"].median(), inplace=True)\n",
      "C:\\Users\\DELL\\AppData\\Local\\Temp\\ipykernel_13188\\1274715488.py:20: FutureWarning: A value is trying to be set on a copy of a DataFrame or Series through chained assignment using an inplace method.\n",
      "The behavior will change in pandas 3.0. This inplace method will never work because the intermediate object on which we are setting values always behaves as a copy.\n",
      "\n",
      "For example, when doing 'df[col].method(value, inplace=True)', try using 'df.method({col: value}, inplace=True)' or df[col] = df[col].method(value) instead, to perform the operation inplace on the original object.\n",
      "\n",
      "\n",
      "  df[\"Embarked\"].fillna(df[\"Embarked\"].mode()[0], inplace=True)\n"
     ]
    },
    {
     "name": "stdout",
     "output_type": "stream",
     "text": [
      "Information Gain for'Pclass': 0.0768\n",
      "Information Gain for'Sex': 0.2154\n",
      "Information Gain for'Age': 0.0236\n",
      "Information Gain for'SibSp': 0.0291\n",
      "Information Gain for'Parch': 0.0284\n",
      "Information Gain for'Fare': 0.0590\n",
      "Information Gain for'Embarked': 0.0181\n",
      "\n",
      "normalize weight(Information Gain):\n",
      "Pclass: 0.1704\n",
      "Sex: 0.4783\n",
      "Age: 0.0524\n",
      "SibSp: 0.0646\n",
      "Parch: 0.0631\n",
      "Fare: 0.1311\n",
      "Embarked: 0.0401\n",
      "\n",
      "Accuracy on validation set: 0.8212\n",
      "\n",
      "Classification Report on validation set:\n",
      "              precision    recall  f1-score   support\n",
      "\n",
      "           0       0.83      0.88      0.85       105\n",
      "           1       0.81      0.74      0.77        74\n",
      "\n",
      "    accuracy                           0.82       179\n",
      "   macro avg       0.82      0.81      0.81       179\n",
      "weighted avg       0.82      0.82      0.82       179\n",
      "\n"
     ]
    }
   ],
   "source": [
    "import pandas as pd\n",
    "import numpy as np\n",
    "from sklearn.model_selection import train_test_split\n",
    "from sklearn.ensemble import RandomForestClassifier\n",
    "from sklearn.preprocessing import LabelEncoder\n",
    "from sklearn.metrics import accuracy_score, classification_report\n",
    "from sklearn.preprocessing import KBinsDiscretizer\n",
    "\n",
    "# بارگذاری داده‌ها\n",
    "train_df = pd.read_csv(\"train.csv\")\n",
    "test_df = pd.read_csv(\"test.csv\")\n",
    "\n",
    "# حذف ستون‌های غیرضروری\n",
    "train_df = train_df.drop(columns=[\"PassengerId\", \"Name\", \"Ticket\", \"Cabin\"])\n",
    "test_df = test_df.drop(columns=[\"PassengerId\", \"Name\", \"Ticket\", \"Cabin\"], errors='ignore')\n",
    "\n",
    "# تابع پیش‌پردازش داده‌ها\n",
    "def preprocess_data(df):\n",
    "    df[\"Age\"].fillna(df[\"Age\"].median(), inplace=True)\n",
    "    df[\"Embarked\"].fillna(df[\"Embarked\"].mode()[0], inplace=True)\n",
    "    return df\n",
    "\n",
    "# اعمال پیش‌پردازش\n",
    "train_df = preprocess_data(train_df)\n",
    "test_df = preprocess_data(test_df)\n",
    "\n",
    "# کدگذاری ویژگی‌های غیرعددی\n",
    "label_encoders = {}\n",
    "for col in [\"Sex\", \"Embarked\"]:\n",
    "    le = LabelEncoder()\n",
    "    train_df[col] = le.fit_transform(train_df[col])\n",
    "    if col in test_df.columns:\n",
    "        test_df[col] = le.transform(test_df[col])\n",
    "    label_encoders[col] = le\n",
    "\n",
    "# جدا کردن ویژگی‌ها و برچسب‌ها\n",
    "X_train = train_df.drop(columns=[\"Survived\"])\n",
    "y_train = train_df[\"Survived\"]\n",
    "X_test = test_df\n",
    "\n",
    "# تقسیم داده‌های آموزشی به آموزشی و اعتبارسنجی\n",
    "X_train_split, X_val, y_train_split, y_val = train_test_split(X_train, y_train, test_size=0.2, random_state=42)\n",
    "\n",
    "# تابع محاسبه Entropy\n",
    "def entropy(y):\n",
    "    _, counts = np.unique(y, return_counts=True)\n",
    "    probs = counts / len(y)\n",
    "    return -np.sum(probs * np.log2(probs + 1e-10))  # جلوگیری از log(0)\n",
    "\n",
    "# تابع محاسبه Information Gain\n",
    "def information_gain(X, y, feature):\n",
    "    total_entropy = entropy(y)\n",
    "    # برای ویژگی‌های پیوسته (مثل Age و Fare)، آن‌ها را به بازه‌های گسسته تبدیل می‌کنیم\n",
    "    if X[feature].dtype in [np.float64, np.int64] and len(np.unique(X[feature])) > 10:\n",
    "        discretizer = KBinsDiscretizer(n_bins=10, encode='ordinal', strategy='uniform')\n",
    "        X_binned = discretizer.fit_transform(X[[feature]].values.reshape(-1, 1)).ravel()\n",
    "    else:\n",
    "        X_binned = X[feature]\n",
    "    \n",
    "    values, counts = np.unique(X_binned, return_counts=True)\n",
    "    weighted_entropy = 0\n",
    "    for value, count in zip(values, counts):\n",
    "        y_subset = y[X_binned == value]\n",
    "        weighted_entropy += (count / len(y)) * entropy(y_subset)\n",
    "    \n",
    "    return total_entropy - weighted_entropy\n",
    "\n",
    "# محاسبه Information Gain برای هر ویژگی\n",
    "ig_weights = {}\n",
    "for feature in X_train_split.columns:\n",
    "    ig = information_gain(X_train_split, y_train_split, feature)\n",
    "    ig_weights[feature] = ig\n",
    "    print(f\"Information Gain for'{feature}': {ig:.4f}\")\n",
    "\n",
    "# تبدیل به آرایه و نرمال‌سازی\n",
    "ig_values = np.array(list(ig_weights.values()))\n",
    "ig_weights_normalized = ig_values / ig_values.sum()\n",
    "\n",
    "# چاپ وزن‌های نرمال‌شده\n",
    "print(\"\\nnormalize weight(Information Gain):\")\n",
    "for feature, weight in zip(X_train_split.columns, ig_weights_normalized):\n",
    "    print(f\"{feature}: {weight:.4f}\")\n",
    "\n",
    "# اعمال وزن‌ها به داده‌ها\n",
    "X_train_split_weighted = X_train_split * ig_weights_normalized\n",
    "X_val_weighted = X_val * ig_weights_normalized\n",
    "X_test_weighted = X_test * ig_weights_normalized\n",
    "\n",
    "# ساخت و آموزش مدل Random Forest\n",
    "rf_model = RandomForestClassifier(n_estimators=100, random_state=42)\n",
    "rf_model.fit(X_train_split_weighted, y_train_split)\n",
    "\n",
    "# پیش‌بینی روی مجموعه اعتبارسنجی\n",
    "y_val_pred = rf_model.predict(X_val_weighted)\n",
    "\n",
    "# ارزیابی مدل روی مجموعه اعتبارسنجی\n",
    "accuracy = accuracy_score(y_val, y_val_pred)\n",
    "print(f\"\\nAccuracy on validation set: {accuracy:.4f}\")\n",
    "print(\"\\nClassification Report on validation set:\")\n",
    "print(classification_report(y_val, y_val_pred))\n",
    "\n",
    "# پیش‌بینی روی مجموعه آزمایشی (test_df)\n",
    "y_test_pred = rf_model.predict(X_test_weighted)\n",
    "\n"
   ]
  },
  {
   "cell_type": "markdown",
   "metadata": {},
   "source": [
    "# Greedy"
   ]
  },
  {
   "cell_type": "code",
   "execution_count": 14,
   "metadata": {},
   "outputs": [
    {
     "name": "stderr",
     "output_type": "stream",
     "text": [
      "C:\\Users\\DELL\\AppData\\Local\\Temp\\ipykernel_13188\\421180900.py:18: FutureWarning: A value is trying to be set on a copy of a DataFrame or Series through chained assignment using an inplace method.\n",
      "The behavior will change in pandas 3.0. This inplace method will never work because the intermediate object on which we are setting values always behaves as a copy.\n",
      "\n",
      "For example, when doing 'df[col].method(value, inplace=True)', try using 'df.method({col: value}, inplace=True)' or df[col] = df[col].method(value) instead, to perform the operation inplace on the original object.\n",
      "\n",
      "\n",
      "  df[\"Age\"].fillna(df[\"Age\"].median(), inplace=True)\n",
      "C:\\Users\\DELL\\AppData\\Local\\Temp\\ipykernel_13188\\421180900.py:19: FutureWarning: A value is trying to be set on a copy of a DataFrame or Series through chained assignment using an inplace method.\n",
      "The behavior will change in pandas 3.0. This inplace method will never work because the intermediate object on which we are setting values always behaves as a copy.\n",
      "\n",
      "For example, when doing 'df[col].method(value, inplace=True)', try using 'df.method({col: value}, inplace=True)' or df[col] = df[col].method(value) instead, to perform the operation inplace on the original object.\n",
      "\n",
      "\n",
      "  df[\"Embarked\"].fillna(df[\"Embarked\"].mode()[0], inplace=True)\n",
      "C:\\Users\\DELL\\AppData\\Local\\Temp\\ipykernel_13188\\421180900.py:18: FutureWarning: A value is trying to be set on a copy of a DataFrame or Series through chained assignment using an inplace method.\n",
      "The behavior will change in pandas 3.0. This inplace method will never work because the intermediate object on which we are setting values always behaves as a copy.\n",
      "\n",
      "For example, when doing 'df[col].method(value, inplace=True)', try using 'df.method({col: value}, inplace=True)' or df[col] = df[col].method(value) instead, to perform the operation inplace on the original object.\n",
      "\n",
      "\n",
      "  df[\"Age\"].fillna(df[\"Age\"].median(), inplace=True)\n",
      "C:\\Users\\DELL\\AppData\\Local\\Temp\\ipykernel_13188\\421180900.py:19: FutureWarning: A value is trying to be set on a copy of a DataFrame or Series through chained assignment using an inplace method.\n",
      "The behavior will change in pandas 3.0. This inplace method will never work because the intermediate object on which we are setting values always behaves as a copy.\n",
      "\n",
      "For example, when doing 'df[col].method(value, inplace=True)', try using 'df.method({col: value}, inplace=True)' or df[col] = df[col].method(value) instead, to perform the operation inplace on the original object.\n",
      "\n",
      "\n",
      "  df[\"Embarked\"].fillna(df[\"Embarked\"].mode()[0], inplace=True)\n"
     ]
    },
    {
     "name": "stdout",
     "output_type": "stream",
     "text": [
      "normalize weight (Greedy):\n",
      "Sex: 0.2500\n",
      "Fare: 0.2143\n",
      "Pclass: 0.1786\n",
      "Embarked: 0.1429\n",
      "Age: 0.1071\n",
      "Parch: 0.0714\n",
      "SibSp: 0.0357\n",
      "\n",
      "Accuracy on validation set: 0.8268\n",
      "\n",
      "Classification Report on validation set:\n",
      "              precision    recall  f1-score   support\n",
      "\n",
      "           0       0.83      0.89      0.86       105\n",
      "           1       0.82      0.74      0.78        74\n",
      "\n",
      "    accuracy                           0.83       179\n",
      "   macro avg       0.83      0.81      0.82       179\n",
      "weighted avg       0.83      0.83      0.83       179\n",
      "\n"
     ]
    }
   ],
   "source": [
    "import pandas as pd\n",
    "import numpy as np\n",
    "from sklearn.model_selection import train_test_split\n",
    "from sklearn.ensemble import RandomForestClassifier\n",
    "from sklearn.preprocessing import LabelEncoder\n",
    "from sklearn.metrics import accuracy_score, classification_report\n",
    "\n",
    "# بارگذاری داده‌ها\n",
    "train_df = pd.read_csv(\"train.csv\")\n",
    "test_df = pd.read_csv(\"test.csv\")\n",
    "\n",
    "# حذف ستون‌های غیرضروری\n",
    "train_df = train_df.drop(columns=[\"PassengerId\", \"Name\", \"Ticket\", \"Cabin\"])\n",
    "test_df = test_df.drop(columns=[\"PassengerId\", \"Name\", \"Ticket\", \"Cabin\"], errors='ignore')\n",
    "\n",
    "# تابع پیش‌پردازش داده‌ها\n",
    "def preprocess_data(df):\n",
    "    df[\"Age\"].fillna(df[\"Age\"].median(), inplace=True)\n",
    "    df[\"Embarked\"].fillna(df[\"Embarked\"].mode()[0], inplace=True)\n",
    "    return df\n",
    "\n",
    "# اعمال پیش‌پردازش\n",
    "train_df = preprocess_data(train_df)\n",
    "test_df = preprocess_data(test_df)\n",
    "\n",
    "# کدگذاری ویژگی‌های غیرعددی\n",
    "label_encoders = {}\n",
    "for col in [\"Sex\", \"Embarked\"]:\n",
    "    le = LabelEncoder()\n",
    "    train_df[col] = le.fit_transform(train_df[col])\n",
    "    if col in test_df.columns:\n",
    "        test_df[col] = le.transform(test_df[col])\n",
    "    label_encoders[col] = le\n",
    "\n",
    "# جدا کردن ویژگی‌ها و برچسب‌ها\n",
    "X_train = train_df.drop(columns=[\"Survived\"])\n",
    "y_train = train_df[\"Survived\"]\n",
    "X_test = test_df\n",
    "\n",
    "# تقسیم داده‌های آموزشی به آموزشی و اعتبارسنجی\n",
    "X_train_split, X_val, y_train_split, y_val = train_test_split(X_train, y_train, test_size=0.2, random_state=42)\n",
    "\n",
    "# اهمیت اولیه ویژگی‌ها (از ورودی شما)\n",
    "feature_importance = {\n",
    "    'Sex': 0.158776,\n",
    "    'Fare': 0.145373,\n",
    "    'Pclass': 0.053259,\n",
    "    'Embarked': 0.038675,\n",
    "    'Age': 0.013381,\n",
    "    'Parch': 0.005797,\n",
    "    'SibSp': 0.000000\n",
    "}\n",
    "\n",
    "# مرتب‌سازی ویژگی‌ها بر اساس اهمیت\n",
    "sorted_features = sorted(feature_importance.items(), key=lambda x: x[1], reverse=True)\n",
    "\n",
    "# تخصیص وزن‌های حریصانه\n",
    "n_features = len(sorted_features)  # تعداد ویژگی‌ها (7)\n",
    "greedy_weights = {}\n",
    "for i, (feature, _) in enumerate(sorted_features):\n",
    "    greedy_weights[feature] = n_features - i  # وزن کاهشی: 7, 6, ..., 1\n",
    "\n",
    "# محاسبه مجموع وزن‌ها برای نرمال‌سازی\n",
    "total_weight = sum(greedy_weights.values())  # 7 + 6 + 5 + 4 + 3 + 2 + 1 = 28\n",
    "\n",
    "# نرمال‌سازی وزن‌ها\n",
    "greedy_weights_normalized = {feature: weight / total_weight for feature, weight in greedy_weights.items()}\n",
    "\n",
    "# چاپ وزن‌های نرمال‌شده\n",
    "print(\"normalize weight (Greedy):\")\n",
    "for feature, weight in greedy_weights_normalized.items():\n",
    "    print(f\"{feature}: {weight:.4f}\")\n",
    "\n",
    "# تبدیل وزن‌ها به آرایه بر اساس ترتیب ستون‌های X\n",
    "weights = np.array([greedy_weights_normalized[col] for col in X_train_split.columns])\n",
    "\n",
    "# اعمال وزن‌ها به داده‌ها\n",
    "X_train_split_weighted = X_train_split * weights\n",
    "X_val_weighted = X_val * weights\n",
    "X_test_weighted = X_test * weights\n",
    "\n",
    "# ساخت و آموزش مدل Random Forest\n",
    "rf_model = RandomForestClassifier(n_estimators=100, random_state=42)\n",
    "rf_model.fit(X_train_split_weighted, y_train_split)\n",
    "\n",
    "# پیش‌بینی روی مجموعه اعتبارسنجی\n",
    "y_val_pred = rf_model.predict(X_val_weighted)\n",
    "\n",
    "# ارزیابی مدل روی مجموعه اعتبارسنجی\n",
    "accuracy = accuracy_score(y_val, y_val_pred)\n",
    "print(f\"\\nAccuracy on validation set: {accuracy:.4f}\")\n",
    "print(\"\\nClassification Report on validation set:\")\n",
    "print(classification_report(y_val, y_val_pred))\n",
    "\n",
    "# پیش‌بینی روی مجموعه آزمایشی (test_df)\n",
    "y_test_pred = rf_model.predict(X_test_weighted)\n"
   ]
  },
  {
   "cell_type": "code",
   "execution_count": 11,
=======
   "execution_count": 24,
>>>>>>> ac01f4e68f8c3ad973fd6c55d2c0608351ed943e
   "metadata": {},
   "outputs": [
    {
     "name": "stdout",
     "output_type": "stream",
     "text": [
<<<<<<< HEAD
      "Best Parameters: {'n_estimators': 100}\n"
=======
      "Best Parameters: {'n_estimators': 200}\n"
>>>>>>> ac01f4e68f8c3ad973fd6c55d2c0608351ed943e
     ]
    }
   ],
   "source": [
    "from sklearn.model_selection import GridSearchCV\n",
    "\n",
    "param_grid = {\n",
    "    'n_estimators':[100, 200, 400, 500]\n",
    "   \n",
    "}\n",
    "\n",
    "grid_search = GridSearchCV(RandomForestClassifier(), param_grid, cv=5, scoring='accuracy')\n",
    "grid_search.fit(X_train, y_train)\n",
    "\n",
    "print(\"Best Parameters:\", grid_search.best_params_)\n"
   ]
  },
  {
   "cell_type": "code",
<<<<<<< HEAD
   "execution_count": 12,
=======
   "execution_count": null,
>>>>>>> ac01f4e68f8c3ad973fd6c55d2c0608351ed943e
   "metadata": {},
   "outputs": [
    {
     "name": "stderr",
     "output_type": "stream",
     "text": [
<<<<<<< HEAD
      "c:\\Users\\DELL\\AppData\\Local\\Programs\\Python\\Python311\\Lib\\site-packages\\xgboost\\core.py:158: UserWarning: [18:10:01] WARNING: C:\\buildkite-agent\\builds\\buildkite-windows-cpu-autoscaling-group-i-06abd128ca6c1688d-1\\xgboost\\xgboost-ci-windows\\src\\learner.cc:740: \n",
=======
      "C:\\Users\\DELL\\AppData\\Local\\Temp\\ipykernel_2936\\595197138.py:16: FutureWarning: A value is trying to be set on a copy of a DataFrame or Series through chained assignment using an inplace method.\n",
      "The behavior will change in pandas 3.0. This inplace method will never work because the intermediate object on which we are setting values always behaves as a copy.\n",
      "\n",
      "For example, when doing 'df[col].method(value, inplace=True)', try using 'df.method({col: value}, inplace=True)' or df[col] = df[col].method(value) instead, to perform the operation inplace on the original object.\n",
      "\n",
      "\n",
      "  df[\"Age\"].fillna(df[\"Age\"].median(), inplace=True)\n",
      "C:\\Users\\DELL\\AppData\\Local\\Temp\\ipykernel_2936\\595197138.py:17: FutureWarning: A value is trying to be set on a copy of a DataFrame or Series through chained assignment using an inplace method.\n",
      "The behavior will change in pandas 3.0. This inplace method will never work because the intermediate object on which we are setting values always behaves as a copy.\n",
      "\n",
      "For example, when doing 'df[col].method(value, inplace=True)', try using 'df.method({col: value}, inplace=True)' or df[col] = df[col].method(value) instead, to perform the operation inplace on the original object.\n",
      "\n",
      "\n",
      "  df[\"Embarked\"].fillna(df[\"Embarked\"].mode()[0], inplace=True)\n",
      "C:\\Users\\DELL\\AppData\\Local\\Temp\\ipykernel_2936\\595197138.py:16: FutureWarning: A value is trying to be set on a copy of a DataFrame or Series through chained assignment using an inplace method.\n",
      "The behavior will change in pandas 3.0. This inplace method will never work because the intermediate object on which we are setting values always behaves as a copy.\n",
      "\n",
      "For example, when doing 'df[col].method(value, inplace=True)', try using 'df.method({col: value}, inplace=True)' or df[col] = df[col].method(value) instead, to perform the operation inplace on the original object.\n",
      "\n",
      "\n",
      "  df[\"Age\"].fillna(df[\"Age\"].median(), inplace=True)\n",
      "C:\\Users\\DELL\\AppData\\Local\\Temp\\ipykernel_2936\\595197138.py:17: FutureWarning: A value is trying to be set on a copy of a DataFrame or Series through chained assignment using an inplace method.\n",
      "The behavior will change in pandas 3.0. This inplace method will never work because the intermediate object on which we are setting values always behaves as a copy.\n",
      "\n",
      "For example, when doing 'df[col].method(value, inplace=True)', try using 'df.method({col: value}, inplace=True)' or df[col] = df[col].method(value) instead, to perform the operation inplace on the original object.\n",
      "\n",
      "\n",
      "  df[\"Embarked\"].fillna(df[\"Embarked\"].mode()[0], inplace=True)\n",
      "c:\\Users\\DELL\\AppData\\Local\\Programs\\Python\\Python311\\Lib\\site-packages\\xgboost\\core.py:158: UserWarning: [20:22:35] WARNING: C:\\buildkite-agent\\builds\\buildkite-windows-cpu-autoscaling-group-i-06abd128ca6c1688d-1\\xgboost\\xgboost-ci-windows\\src\\learner.cc:740: \n",
>>>>>>> ac01f4e68f8c3ad973fd6c55d2c0608351ed943e
      "Parameters: { \"use_label_encoder\" } are not used.\n",
      "\n",
      "  warnings.warn(smsg, UserWarning)\n",
      "c:\\Users\\DELL\\AppData\\Local\\Programs\\Python\\Python311\\Lib\\site-packages\\sklearn\\linear_model\\_logistic.py:469: ConvergenceWarning: lbfgs failed to converge (status=1):\n",
      "STOP: TOTAL NO. of ITERATIONS REACHED LIMIT.\n",
      "\n",
      "Increase the number of iterations (max_iter) or scale the data as shown in:\n",
      "    https://scikit-learn.org/stable/modules/preprocessing.html\n",
      "Please also refer to the documentation for alternative solver options:\n",
      "    https://scikit-learn.org/stable/modules/linear_model.html#logistic-regression\n",
      "  n_iter_i = _check_optimize_result(\n",
<<<<<<< HEAD
      "c:\\Users\\DELL\\AppData\\Local\\Programs\\Python\\Python311\\Lib\\site-packages\\xgboost\\core.py:158: UserWarning: [18:10:03] WARNING: C:\\buildkite-agent\\builds\\buildkite-windows-cpu-autoscaling-group-i-06abd128ca6c1688d-1\\xgboost\\xgboost-ci-windows\\src\\learner.cc:740: \n",
=======
      "c:\\Users\\DELL\\AppData\\Local\\Programs\\Python\\Python311\\Lib\\site-packages\\xgboost\\core.py:158: UserWarning: [20:22:37] WARNING: C:\\buildkite-agent\\builds\\buildkite-windows-cpu-autoscaling-group-i-06abd128ca6c1688d-1\\xgboost\\xgboost-ci-windows\\src\\learner.cc:740: \n",
>>>>>>> ac01f4e68f8c3ad973fd6c55d2c0608351ed943e
      "Parameters: { \"use_label_encoder\" } are not used.\n",
      "\n",
      "  warnings.warn(smsg, UserWarning)\n"
     ]
    },
    {
     "name": "stdout",
     "output_type": "stream",
     "text": [
      "Validation Accuracy: 0.8268156424581006\n"
     ]
    }
   ],
   "source": [
<<<<<<< HEAD
=======
    "train_df = pd.read_csv( \"train.csv\")\n",
    "test_df = pd.read_csv(\"test.csv\")\n",
    "\n",
    "train_df = train_df.drop(columns=[\"PassengerId\", \"Name\", \"Ticket\", \"Cabin\"])\n",
    "test_df = test_df.drop(columns=[\"PassengerId\", \"Name\", \"Ticket\", \"Cabin\"], errors='ignore')\n",
    "\n",
    "def preprocess_data(df):\n",
    "    df[\"Age\"].fillna(df[\"Age\"].median(), inplace=True)\n",
    "    df[\"Embarked\"].fillna(df[\"Embarked\"].mode()[0], inplace=True)\n",
    "    return df\n",
    "\n",
    "train_df = preprocess_data(train_df)\n",
    "test_df = preprocess_data(test_df)\n",
    "\n",
    "label_encoders = {}\n",
    "for col in [\"Sex\", \"Embarked\"]:\n",
    "    le = LabelEncoder()\n",
    "    train_df[col] = le.fit_transform(train_df[col])\n",
    "    if col in test_df.columns:\n",
    "        test_df[col] = le.transform(test_df[col])\n",
    "    label_encoders[col] = le\n",
    "\n",
    "X_train = train_df.drop(columns=[\"Survived\"])\n",
    "y_train = train_df[\"Survived\"]\n",
    "X_test = test_df  \n",
    "X_train_split, X_val, y_train_split, y_val = train_test_split(X_train, y_train, test_size=0.2, random_state=42)\n",
    "\n",
    "\n",
    "# ایجاد نمونه‌های بوت‌استرپ\n",
>>>>>>> ac01f4e68f8c3ad973fd6c55d2c0608351ed943e
    "n_samples = 7  # تعداد نمونه‌های بوت‌استرپ\n",
    "bootstrap_samples = []\n",
    "\n",
    "for i in range(n_samples):\n",
    "    sample = train_df.sample(n=len(train_df), replace=True, random_state=42 + i)\n",
    "    bootstrap_samples.append(sample)\n",
    "\n",
    "# تعریف مدل‌های weak learners\n",
    "weak_learners = []\n",
    "models = [\n",
    "    XGBClassifier(n_estimators=500, use_label_encoder=False, eval_metric=\"logloss\"),\n",
    "    DecisionTreeClassifier(min_samples_split=5, max_depth=10),\n",
    "    RandomForestClassifier(n_estimators=200, max_depth=10, min_samples_split=2),\n",
    "    SVC(probability=True),  # اضافه کردن SVM\n",
    "    LogisticRegression(),   # اضافه کردن رگرسیون لجستیک\n",
    "    ExtraTreesClassifier(n_estimators=100),  # جایگزین LightGBM با Extra Trees\n",
    "    KNeighborsClassifier(n_neighbors=5)\n",
    "]\n",
    "\n",
    "for i, sample in enumerate(bootstrap_samples):\n",
    "    X_sample = sample.drop(columns=[\"Survived\"])\n",
    "    y_sample = sample[\"Survived\"]\n",
    "    model = models[i]\n",
    "    model.fit(X_sample, y_sample)\n",
    "    weak_learners.append((f'model_{i+1}', model))\n",
    "\n",
    "# ایجاد strong learner با VotingClassifier\n",
    "strong_learner = VotingClassifier(estimators=weak_learners, voting='hard')\n",
    "strong_learner.fit(X_train_split, y_train_split)\n",
    "\n",
    "# پیش‌بینی روی داده‌های تست\n",
    "y_val_pred = strong_learner.predict(X_val)\n",
    "accuracy = accuracy_score(y_val, y_val_pred)\n",
    "print(\"Validation Accuracy:\", accuracy)\n",
    "\n"
   ]
<<<<<<< HEAD
=======
  },
  {
   "cell_type": "code",
   "execution_count": null,
   "metadata": {},
   "outputs": [],
   "source": []
>>>>>>> ac01f4e68f8c3ad973fd6c55d2c0608351ed943e
  }
 ],
 "metadata": {
  "kernelspec": {
   "display_name": "Python 3",
   "language": "python",
   "name": "python3"
  },
  "language_info": {
   "codemirror_mode": {
    "name": "ipython",
    "version": 3
   },
   "file_extension": ".py",
   "mimetype": "text/x-python",
   "name": "python",
   "nbconvert_exporter": "python",
   "pygments_lexer": "ipython3",
   "version": "3.11.8"
  }
 },
 "nbformat": 4,
 "nbformat_minor": 2
}
